{
 "cells": [
  {
   "cell_type": "markdown",
   "metadata": {},
   "source": [
    "# Regresión logística y descenso del gradiente\n",
    "\n",
    "Iker Aguirre Otaegui\n",
    "\n",
    "13/11/2020"
   ]
  },
  {
   "cell_type": "markdown",
   "metadata": {},
   "source": [
    "### Objetivo del trabajo."
   ]
  },
  {
   "cell_type": "markdown",
   "metadata": {},
   "source": [
    "El siguiente trabajo tiene como objeto estudiar, mediante su aplicación, el descenso del gradiente como método para minimizar la función de coste asociada a un modelo de regresión logística. Para ello, utilizaremos el dataset \"4_1_data\", el cual recoge información referente al resultado de una prueba (ya sea de admisión a la universidad, nota final de una asignatura, etc) en base al resultado de dos tests previos. \n",
    "\n",
    "Las variables que podemos encontrar en este dataset son:\n",
    "\n",
    "- score-1: Nota del primer test.\n",
    "\n",
    "\n",
    "- score-2: Nota del segundo test.\n",
    "\n",
    "\n",
    "- label: Resultado de la prueba global, adoptando valor 1 en caso de resolverse a favor del alumno que realiza los tests, y adoptando valor 0 en caso contrario (admitido o no admitido, aprobado o no aprobado, etc)"
   ]
  },
  {
   "cell_type": "markdown",
   "metadata": {},
   "source": [
    "###  Carga de librerías."
   ]
  },
  {
   "cell_type": "code",
   "execution_count": 1,
   "metadata": {},
   "outputs": [],
   "source": [
    "import pandas as pd\n",
    "import numpy as np\n",
    "import matplotlib.pyplot as plt\n",
    "import seaborn as sns"
   ]
  },
  {
   "cell_type": "markdown",
   "metadata": {},
   "source": [
    "### Carga del dataset. "
   ]
  },
  {
   "cell_type": "code",
   "execution_count": 2,
   "metadata": {},
   "outputs": [],
   "source": [
    "data = pd.read_csv('4_1_data.csv')"
   ]
  },
  {
   "cell_type": "markdown",
   "metadata": {},
   "source": [
    "### Análisis exploratorio previo."
   ]
  },
  {
   "cell_type": "code",
   "execution_count": 3,
   "metadata": {},
   "outputs": [
    {
     "data": {
      "text/plain": [
       "['score-1', 'score-2', 'label']"
      ]
     },
     "execution_count": 3,
     "metadata": {},
     "output_type": "execute_result"
    }
   ],
   "source": [
    "list(data)"
   ]
  },
  {
   "cell_type": "code",
   "execution_count": 4,
   "metadata": {},
   "outputs": [
    {
     "data": {
      "text/html": [
       "<div>\n",
       "<style scoped>\n",
       "    .dataframe tbody tr th:only-of-type {\n",
       "        vertical-align: middle;\n",
       "    }\n",
       "\n",
       "    .dataframe tbody tr th {\n",
       "        vertical-align: top;\n",
       "    }\n",
       "\n",
       "    .dataframe thead th {\n",
       "        text-align: right;\n",
       "    }\n",
       "</style>\n",
       "<table border=\"1\" class=\"dataframe\">\n",
       "  <thead>\n",
       "    <tr style=\"text-align: right;\">\n",
       "      <th></th>\n",
       "      <th>score-1</th>\n",
       "      <th>score-2</th>\n",
       "      <th>label</th>\n",
       "    </tr>\n",
       "  </thead>\n",
       "  <tbody>\n",
       "    <tr>\n",
       "      <th>count</th>\n",
       "      <td>100.000000</td>\n",
       "      <td>100.000000</td>\n",
       "      <td>100.000000</td>\n",
       "    </tr>\n",
       "    <tr>\n",
       "      <th>mean</th>\n",
       "      <td>65.644274</td>\n",
       "      <td>66.221998</td>\n",
       "      <td>0.600000</td>\n",
       "    </tr>\n",
       "    <tr>\n",
       "      <th>std</th>\n",
       "      <td>19.458222</td>\n",
       "      <td>18.582783</td>\n",
       "      <td>0.492366</td>\n",
       "    </tr>\n",
       "    <tr>\n",
       "      <th>min</th>\n",
       "      <td>30.058822</td>\n",
       "      <td>30.603263</td>\n",
       "      <td>0.000000</td>\n",
       "    </tr>\n",
       "    <tr>\n",
       "      <th>25%</th>\n",
       "      <td>50.919511</td>\n",
       "      <td>48.179205</td>\n",
       "      <td>0.000000</td>\n",
       "    </tr>\n",
       "    <tr>\n",
       "      <th>50%</th>\n",
       "      <td>67.032988</td>\n",
       "      <td>67.682381</td>\n",
       "      <td>1.000000</td>\n",
       "    </tr>\n",
       "    <tr>\n",
       "      <th>75%</th>\n",
       "      <td>80.212529</td>\n",
       "      <td>79.360605</td>\n",
       "      <td>1.000000</td>\n",
       "    </tr>\n",
       "    <tr>\n",
       "      <th>max</th>\n",
       "      <td>99.827858</td>\n",
       "      <td>98.869436</td>\n",
       "      <td>1.000000</td>\n",
       "    </tr>\n",
       "  </tbody>\n",
       "</table>\n",
       "</div>"
      ],
      "text/plain": [
       "          score-1     score-2       label\n",
       "count  100.000000  100.000000  100.000000\n",
       "mean    65.644274   66.221998    0.600000\n",
       "std     19.458222   18.582783    0.492366\n",
       "min     30.058822   30.603263    0.000000\n",
       "25%     50.919511   48.179205    0.000000\n",
       "50%     67.032988   67.682381    1.000000\n",
       "75%     80.212529   79.360605    1.000000\n",
       "max     99.827858   98.869436    1.000000"
      ]
     },
     "execution_count": 4,
     "metadata": {},
     "output_type": "execute_result"
    }
   ],
   "source": [
    "data.describe()"
   ]
  },
  {
   "cell_type": "code",
   "execution_count": 5,
   "metadata": {},
   "outputs": [
    {
     "name": "stdout",
     "output_type": "stream",
     "text": [
      "<class 'pandas.core.frame.DataFrame'>\n",
      "RangeIndex: 100 entries, 0 to 99\n",
      "Data columns (total 3 columns):\n",
      " #   Column   Non-Null Count  Dtype  \n",
      "---  ------   --------------  -----  \n",
      " 0   score-1  100 non-null    float64\n",
      " 1   score-2  100 non-null    float64\n",
      " 2   label    100 non-null    int64  \n",
      "dtypes: float64(2), int64(1)\n",
      "memory usage: 2.5 KB\n"
     ]
    }
   ],
   "source": [
    "data.info()"
   ]
  },
  {
   "cell_type": "code",
   "execution_count": 6,
   "metadata": {
    "scrolled": true
   },
   "outputs": [
    {
     "data": {
      "text/html": [
       "<div>\n",
       "<style scoped>\n",
       "    .dataframe tbody tr th:only-of-type {\n",
       "        vertical-align: middle;\n",
       "    }\n",
       "\n",
       "    .dataframe tbody tr th {\n",
       "        vertical-align: top;\n",
       "    }\n",
       "\n",
       "    .dataframe thead th {\n",
       "        text-align: right;\n",
       "    }\n",
       "</style>\n",
       "<table border=\"1\" class=\"dataframe\">\n",
       "  <thead>\n",
       "    <tr style=\"text-align: right;\">\n",
       "      <th></th>\n",
       "      <th>score-1</th>\n",
       "      <th>score-2</th>\n",
       "      <th>label</th>\n",
       "    </tr>\n",
       "  </thead>\n",
       "  <tbody>\n",
       "    <tr>\n",
       "      <th>0</th>\n",
       "      <td>34.623660</td>\n",
       "      <td>78.024693</td>\n",
       "      <td>0</td>\n",
       "    </tr>\n",
       "    <tr>\n",
       "      <th>1</th>\n",
       "      <td>30.286711</td>\n",
       "      <td>43.894998</td>\n",
       "      <td>0</td>\n",
       "    </tr>\n",
       "    <tr>\n",
       "      <th>2</th>\n",
       "      <td>35.847409</td>\n",
       "      <td>72.902198</td>\n",
       "      <td>0</td>\n",
       "    </tr>\n",
       "    <tr>\n",
       "      <th>3</th>\n",
       "      <td>60.182599</td>\n",
       "      <td>86.308552</td>\n",
       "      <td>1</td>\n",
       "    </tr>\n",
       "    <tr>\n",
       "      <th>4</th>\n",
       "      <td>79.032736</td>\n",
       "      <td>75.344376</td>\n",
       "      <td>1</td>\n",
       "    </tr>\n",
       "  </tbody>\n",
       "</table>\n",
       "</div>"
      ],
      "text/plain": [
       "     score-1    score-2  label\n",
       "0  34.623660  78.024693      0\n",
       "1  30.286711  43.894998      0\n",
       "2  35.847409  72.902198      0\n",
       "3  60.182599  86.308552      1\n",
       "4  79.032736  75.344376      1"
      ]
     },
     "execution_count": 6,
     "metadata": {},
     "output_type": "execute_result"
    }
   ],
   "source": [
    "data.head()"
   ]
  },
  {
   "cell_type": "code",
   "execution_count": 7,
   "metadata": {},
   "outputs": [],
   "source": [
    "test1 = data.iloc[:, 0]\n",
    "test2 = data.iloc[:, 1].values\n",
    "resultado = data.iloc[:, -1].values"
   ]
  },
  {
   "cell_type": "code",
   "execution_count": 8,
   "metadata": {},
   "outputs": [
    {
     "data": {
      "image/png": "[encoded data removed]",
      "text/plain": [
       "<Figure size 432x288 with 1 Axes>"
      ]
     },
     "metadata": {
      "needs_background": "light"
     },
     "output_type": "display_data"
    }
   ],
   "source": [
    "representacion_data = sns.scatterplot (x = test1, y = test2, hue = resultado)\n",
    "representacion_data.set(xlabel=\"Test1\", ylabel=\"Test2\")\n",
    "plt.show()"
   ]
  },
  {
   "cell_type": "markdown",
   "metadata": {},
   "source": [
    "El gráfico representa las notas de cada uno de los alumnos, representando el eje de abcisas la nota del primer test y el eje de coordenadas la nota del segundo. El color de los puntos sirve para diferenciar quien ha pasado la prueba y quien no, asignando el color naranja a los que sí y el color azul a los que no."
   ]
  },
  {
   "cell_type": "markdown",
   "metadata": {},
   "source": [
    "## 1. Función logística."
   ]
  },
  {
   "cell_type": "markdown",
   "metadata": {},
   "source": [
    "Puesto que la variable dependiente se trate de una variable categórica, recurrimos a la regresión logística. Para ello, definimos una función logistica o sigmoide, cuyo valor se encontrará siempre entre 0 y 1:\n",
    "$$ \\sigma(z) = \\frac{1}{1+e^{-z}}$$\n",
    "\n",
    "Dato que el objetivo es clasificar los datos por probabilidades de manera binaria, en un principio toda probabilidad por debajo de 0.5 computará como \"0\" y toda aquella que esté por encima de 0.5 corresponerá a la clase \"1\".\n"
   ]
  },
  {
   "cell_type": "code",
   "execution_count": 19,
   "metadata": {},
   "outputs": [],
   "source": [
    "def funcion_logistica(x):    \n",
    "    return 1/ (1 + np.exp(-x)) #fórmula de la función sigmoide"
   ]
  },
  {
   "cell_type": "markdown",
   "metadata": {},
   "source": [
    "## 2. Función de coste y gradiente."
   ]
  },
  {
   "cell_type": "markdown",
   "metadata": {},
   "source": [
    "Esta función logística llevará asociada una función de coste, recopilando así el error que se comete al clasificar las observaciones de la muestra:\n",
    "$$J(\\theta) = -\\frac{1}{m} \\sum_{i=1}^{m} [ y^{(i)}log(h_{\\theta}(x^{(i)})) + (1 - y^{(i)})log(1 - (h_{\\theta}(x^{(i)}))]$$\n",
    "\n",
    "Se procurará minimzar esta función de coste. Dado que nuestra función de coste es convexa, nos interesará el valor concreto del modelo que da lugar al mínimo global. Para ello, utilizamos el Descenso del Gradiente, mediante el cual iremos descendiendo por la curva hacia ese mínimo dando \"saltos\" de manera iterativa.\n",
    "\n",
    "$$ \\frac{\\partial J(\\theta)}{\\partial \\theta_j} = \\frac{1}{m} \\sum_{i=1}^{m} (h_{\\theta}(x^{(i)}) - y^{(i)})x_j^{(i)}$$"
   ]
  },
  {
   "cell_type": "code",
   "execution_count": 33,
   "metadata": {},
   "outputs": [],
   "source": [
    "def costes_computados(theta, x, y):\n",
    "    m = len(y) #número de observaciones\n",
    "    y_prediccion = funcion_logistica(np.dot(x ,theta)) #utilizamos la función logistica\n",
    "    error = (y * np.log(y_prediccion)) + ((1 - y) * np.log(1 - y_prediccion)) #función de coste\n",
    "    coste = -1 / m * sum(error) #sumatorio del coste\n",
    "    gradiente = 1 / m * np.dot(x.transpose(), (y_prediccion - y)) #calculamos el gradiente\n",
    "    return coste[0] , gradiente #valores que queremos que se nos devuelvan"
   ]
  },
  {
   "cell_type": "code",
   "execution_count": 26,
   "metadata": {},
   "outputs": [],
   "source": [
    "notas = data.iloc[:, :2]"
   ]
  },
  {
   "cell_type": "code",
   "execution_count": 27,
   "metadata": {},
   "outputs": [],
   "source": [
    "media_notas = np.mean(notas, axis=0) #normalizamos\n",
    "desviacion_notas = np.std(notas, axis=0)\n",
    "notas = (notas - media_notas) / desviacion_notas "
   ]
  },
  {
   "cell_type": "code",
   "execution_count": 28,
   "metadata": {},
   "outputs": [],
   "source": [
    "filas = notas.shape[0] #numero de filas y columnas\n",
    "columnas = notas.shape[1]"
   ]
  },
  {
   "cell_type": "code",
   "execution_count": 29,
   "metadata": {},
   "outputs": [],
   "source": [
    "X = np.append(np.ones((filas, 1)), notas, axis=1) \n",
    "y = resultado.reshape(filas, 1)"
   ]
  },
  {
   "cell_type": "code",
   "execution_count": 34,
   "metadata": {},
   "outputs": [
    {
     "name": "stdout",
     "output_type": "stream",
     "text": [
      "Coste inicial 0.693147180559946\n",
      "Gradiente inicial: [[-0.1       ]\n",
      " [-0.28122914]\n",
      " [-0.25098615]]\n"
     ]
    }
   ],
   "source": [
    "theta_init = np.zeros((columnas + 1, 1)) #valores de theta\n",
    "coste, gradiente = costes_computados(theta_init, X, y) #me da coste y gradiente en base a unos parámetro\n",
    "\n",
    "print(\"Coste inicial\", coste) #coste y gradiente iniciales\n",
    "print(\"Gradiente inicial:\", gradiente)"
   ]
  },
  {
   "cell_type": "markdown",
   "metadata": {},
   "source": [
    "## 3. Descenso del gradiente."
   ]
  },
  {
   "cell_type": "code",
   "execution_count": 39,
   "metadata": {},
   "outputs": [],
   "source": [
    "def descenso_gradiente(x, y, theta, alpha, iteraciones):\n",
    "    costes = [] #guarda los costes\n",
    "    for i in range(iteraciones):\n",
    "        coste, gradiente = costes_computados(theta, x, y) #función de coste en base a los parámetros\n",
    "        theta = theta - (alpha * gradiente) #con cada iteración, usamos la anterior theta y restamos el gradiente por la tasa de aprendizaje\n",
    "        costes.append(coste) #se va acumulando el coste en costs\n",
    "    return theta, costes"
   ]
  },
  {
   "cell_type": "markdown",
   "metadata": {},
   "source": [
    "## 4. Representacion grafica."
   ]
  },
  {
   "cell_type": "markdown",
   "metadata": {},
   "source": [
    "A continuación realizamos pruebas para ver como afectan las variaciones de iteraciones y alphas."
   ]
  },
  {
   "cell_type": "code",
   "execution_count": 63,
   "metadata": {},
   "outputs": [
    {
     "name": "stdout",
     "output_type": "stream",
     "text": [
      "Theta after running gradient descent: [[1.70226584]\n",
      " [3.95824393]\n",
      " [3.69171044]]\n",
      "Resulting cost: 0.2035052317767783\n"
     ]
    }
   ],
   "source": [
    "#prueba 1, base\n",
    "theta, costes = descenso_gradiente(X, y, theta_init, 0.3, 2000)\n",
    "print(\"Theta after running gradient descent:\", theta) #última theta y coste\n",
    "print(\"Resulting cost:\", costes[-1])"
   ]
  },
  {
   "cell_type": "code",
   "execution_count": 64,
   "metadata": {},
   "outputs": [
    {
     "data": {
      "image/png": "[encoded data removed]",
      "text/plain": [
       "<Figure size 432x288 with 1 Axes>"
      ]
     },
     "metadata": {
      "needs_background": "light"
     },
     "output_type": "display_data"
    }
   ],
   "source": [
    "plt.plot(costes) \n",
    "plt.xlabel(\"Iteraciones\")\n",
    "plt.ylabel(\"$J(\\Theta)$\")\n",
    "plt.title(\"Valor de la curva de costes por iteraciones\");"
   ]
  },
  {
   "cell_type": "code",
   "execution_count": 65,
   "metadata": {},
   "outputs": [
    {
     "name": "stdout",
     "output_type": "stream",
     "text": [
      "Theta after running gradient descent: [[1.71844679]\n",
      " [3.99278185]\n",
      " [3.72513094]]\n",
      "Resulting cost: 0.20349770159895333\n"
     ]
    }
   ],
   "source": [
    "#prueba 2, variación iteraciones\n",
    "theta, costes = descenso_gradiente(X, y, theta_init, 0.3, 7000)\n",
    "print(\"Theta after running gradient descent:\", theta) #última theta y coste\n",
    "print(\"Resulting cost:\", costes[-1])"
   ]
  },
  {
   "cell_type": "code",
   "execution_count": 67,
   "metadata": {},
   "outputs": [
    {
     "data": {
      "image/png": "[encoded data removed]",
      "text/plain": [
       "<Figure size 432x288 with 1 Axes>"
      ]
     },
     "metadata": {
      "needs_background": "light"
     },
     "output_type": "display_data"
    }
   ],
   "source": [
    "plt.plot(costes) \n",
    "plt.xlabel(\"Iteraciones\")\n",
    "plt.ylabel(\"$J(\\Theta)$\")\n",
    "plt.title(\"Valor de la curva de costes por iteraciones 2\");"
   ]
  },
  {
   "cell_type": "code",
   "execution_count": 68,
   "metadata": {},
   "outputs": [
    {
     "name": "stdout",
     "output_type": "stream",
     "text": [
      "Theta after running gradient descent: [[1.53251929]\n",
      " [3.59763865]\n",
      " [3.34290892]]\n",
      "Resulting cost: 0.2045667147193595\n"
     ]
    }
   ],
   "source": [
    "#prueba 3, variación alphas\n",
    "theta, costes = descenso_gradiente(X, y, theta_init, 0.1, 2000)\n",
    "print(\"Theta after running gradient descent:\", theta) #última theta y coste\n",
    "print(\"Resulting cost:\", costes[-1])"
   ]
  },
  {
   "cell_type": "code",
   "execution_count": 69,
   "metadata": {},
   "outputs": [
    {
     "data": {
      "image/png": "[encoded data removed]",
      "text/plain": [
       "<Figure size 432x288 with 1 Axes>"
      ]
     },
     "metadata": {
      "needs_background": "light"
     },
     "output_type": "display_data"
    }
   ],
   "source": [
    "plt.plot(costes) \n",
    "plt.xlabel(\"Iteraciones\")\n",
    "plt.ylabel(\"$J(\\Theta)$\")\n",
    "plt.title(\"Valor de la curva de costes por iteraciones 3\");"
   ]
  },
  {
   "cell_type": "markdown",
   "metadata": {},
   "source": [
    "## Bibliografía"
   ]
  },
  {
   "cell_type": "markdown",
   "metadata": {},
   "source": [
    "https://towardsdatascience.com/building-a-logistic-regression-in-python-301d27367c24\n",
    "\n",
    "https://es.wikipedia.org/wiki/Regresión_log%C3%ADstica\n",
    "\n",
    "https://carlosjuliopardoblog.wordpress.com/2017/12/31/regresion-logistica/\n",
    "\n",
    "https://github.com/lmntrixsid/Linear-and-Logistic-Regression-with-NumPy-and-Python/blob/master/Logistic_Regression_Completed.ipynb\n",
    "\n",
    "https://www.iartificial.net/regresion-logistica-para-clasificacion/\n",
    "\n",
    "https://towardsdatascience.com/gradient-descent-in-python-a0d07285742f\n",
    "\n",
    "https://towardsdatascience.com/implement-gradient-descent-in-python-9b93ed7108d1"
   ]
  }
 ],
 "metadata": {
  "kernelspec": {
   "display_name": "gd_env",
   "language": "python",
   "name": "gd_env"
  },
  "language_info": {
   "codemirror_mode": {
    "name": "ipython",
    "version": 3
   },
   "file_extension": ".py",
   "mimetype": "text/x-python",
   "name": "python",
   "nbconvert_exporter": "python",
   "pygments_lexer": "ipython3",
   "version": "3.8.3"
  }
 },
 "nbformat": 4,
 "nbformat_minor": 4
}
